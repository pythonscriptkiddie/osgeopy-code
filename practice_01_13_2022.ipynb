{
 "cells": [
  {
   "cell_type": "code",
   "execution_count": 5,
   "id": "79b84719",
   "metadata": {},
   "outputs": [],
   "source": [
    "import os\n",
    "from osgeo import ogr\n",
    "from ospybook.vectorplotter import VectorPlotter"
   ]
  },
  {
   "cell_type": "code",
   "execution_count": 6,
   "id": "85900d15",
   "metadata": {},
   "outputs": [],
   "source": [
    "ogr.UseExceptions()"
   ]
  },
  {
   "cell_type": "code",
   "execution_count": 7,
   "id": "f019afc3",
   "metadata": {},
   "outputs": [],
   "source": [
    "firepit = ogr.Geometry(ogr.wkbPoint)"
   ]
  },
  {
   "cell_type": "code",
   "execution_count": 8,
   "id": "621d693e",
   "metadata": {},
   "outputs": [
    {
     "name": "stdout",
     "output_type": "stream",
     "text": [
      "POINT EMPTY\n"
     ]
    }
   ],
   "source": [
    "print(firepit)"
   ]
  },
  {
   "cell_type": "code",
   "execution_count": null,
   "id": "489257d5-a7e9-4ac0-8deb-019b24311b32",
   "metadata": {},
   "outputs": [],
   "source": []
  }
 ],
 "metadata": {
  "kernelspec": {
   "display_name": "Python 3 (ipykernel)",
   "language": "python",
   "name": "python3"
  },
  "language_info": {
   "codemirror_mode": {
    "name": "ipython",
    "version": 3
   },
   "file_extension": ".py",
   "mimetype": "text/x-python",
   "name": "python",
   "nbconvert_exporter": "python",
   "pygments_lexer": "ipython3",
   "version": "3.9.7"
  }
 },
 "nbformat": 4,
 "nbformat_minor": 5
}
